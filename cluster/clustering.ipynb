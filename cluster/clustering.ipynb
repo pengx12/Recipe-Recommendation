{
 "cells": [
  {
   "cell_type": "code",
   "execution_count": 1,
   "metadata": {},
   "outputs": [],
   "source": [
    "import csv\n",
    "import numpy as np\n",
    "import pandas as pd\n",
    "import scipy.spatial.distance\n",
    "\n",
    "from sklearn.cluster import DBSCAN\n",
    "from sklearn import metrics\n",
    "from sklearn.datasets.samples_generator import make_blobs\n",
    "from sklearn.preprocessing import StandardScaler\n",
    "\n",
    "from sklearn.cluster import AgglomerativeClustering\n",
    "from sklearn.metrics import pairwise_distances\n",
    "from sklearn.cluster import KMeans\n",
    "\n",
    "import matplotlib.pyplot as plt\n"
   ]
  },
  {
   "cell_type": "code",
   "execution_count": 2,
   "metadata": {},
   "outputs": [],
   "source": [
    "train_df = pd.read_csv('training_data.csv')"
   ]
  },
  {
   "cell_type": "code",
   "execution_count": 23,
   "metadata": {},
   "outputs": [],
   "source": [
    "y_pred = KMeans(n_clusters=9, random_state=9).fit_predict(train_df)"
   ]
  },
  {
   "cell_type": "code",
   "execution_count": 24,
   "metadata": {},
   "outputs": [
    {
     "name": "stdout",
     "output_type": "stream",
     "text": [
      "0    3541\n",
      "5    2855\n",
      "3    2628\n",
      "7    2400\n",
      "2    2100\n",
      "1    1988\n",
      "6    1526\n",
      "8    1375\n",
      "4     446\n",
      "Name: 0, dtype: int64\n"
     ]
    }
   ],
   "source": [
    "#print (train_df)\n",
    "kdf = pd.DataFrame(y_pred)\n",
    "print (kdf[0].value_counts())"
   ]
  },
  {
   "cell_type": "code",
   "execution_count": 14,
   "metadata": {},
   "outputs": [
    {
     "name": "stdout",
     "output_type": "stream",
     "text": [
      "[ 0 -1  1 ... -1 -1  1]\n",
      "-1      7128\n",
      " 5      1365\n",
      " 44      951\n",
      " 1       583\n",
      " 76      566\n",
      " 58      501\n",
      " 9       387\n",
      " 32      371\n",
      " 0       334\n",
      " 11      306\n",
      " 25      293\n",
      " 64      289\n",
      " 96      257\n",
      " 33      238\n",
      " 8       232\n",
      " 74      163\n",
      " 24      162\n",
      " 55      160\n",
      " 90      157\n",
      " 56      154\n",
      " 31      126\n",
      " 69      121\n",
      " 100     115\n",
      " 68      115\n",
      " 36      112\n",
      " 53      111\n",
      " 6        97\n",
      " 103      97\n",
      " 48       93\n",
      " 45       89\n",
      "        ... \n",
      " 81       14\n",
      " 128      14\n",
      " 22       14\n",
      " 77       14\n",
      " 101      14\n",
      " 86       14\n",
      " 61       14\n",
      " 92       13\n",
      " 132      13\n",
      " 62       12\n",
      " 54       12\n",
      " 107      12\n",
      " 106      12\n",
      " 79       11\n",
      " 131      11\n",
      " 71       11\n",
      " 134      11\n",
      " 70       11\n",
      " 34       11\n",
      " 119      10\n",
      " 114      10\n",
      " 49       10\n",
      " 136      10\n",
      " 39       10\n",
      " 89       10\n",
      " 137      10\n",
      " 122      10\n",
      " 123      10\n",
      " 108      10\n",
      " 125      10\n",
      "Name: 0, Length: 139, dtype: int64\n"
     ]
    }
   ],
   "source": [
    "model = DBSCAN(eps=0.03, min_samples=10, metric=\"hamming\").fit(train_df)\n",
    "\n",
    "print (model.labels_)\n",
    "\n",
    "df = pd.DataFrame(model.labels_)\n",
    "print (df[0].value_counts())"
   ]
  },
  {
   "cell_type": "code",
   "execution_count": 20,
   "metadata": {},
   "outputs": [
    {
     "name": "stdout",
     "output_type": "stream",
     "text": [
      "[ 0 25  0 ... -1 -1  0]\n",
      "-1      4038\n",
      " 3      2899\n",
      " 0      1484\n",
      " 45     1138\n",
      " 67      750\n",
      " 27      704\n",
      " 5       617\n",
      " 28      607\n",
      " 6       579\n",
      " 60      324\n",
      " 83      280\n",
      " 23      256\n",
      " 20      253\n",
      " 48      233\n",
      " 4       220\n",
      " 65      218\n",
      " 8       198\n",
      " 15      189\n",
      " 37      183\n",
      " 41      153\n",
      " 86      150\n",
      " 68      134\n",
      " 51      131\n",
      " 16      131\n",
      " 30      117\n",
      " 46      115\n",
      " 21      113\n",
      " 64      102\n",
      " 89       83\n",
      " 66       81\n",
      "        ... \n",
      " 95       19\n",
      " 55       19\n",
      " 71       19\n",
      " 69       18\n",
      " 72       18\n",
      " 107      17\n",
      " 87       17\n",
      " 85       16\n",
      " 40       16\n",
      " 62       16\n",
      " 108      15\n",
      " 70       15\n",
      " 38       15\n",
      " 54       14\n",
      " 90       14\n",
      " 80       14\n",
      " 33       13\n",
      " 31       12\n",
      " 63       12\n",
      " 93       12\n",
      " 97       11\n",
      " 58       11\n",
      " 7        10\n",
      " 105      10\n",
      " 77       10\n",
      " 99       10\n",
      " 92       10\n",
      " 104      10\n",
      " 106      10\n",
      " 35       10\n",
      "Name: 0, Length: 112, dtype: int64\n"
     ]
    }
   ],
   "source": [
    "model2 = DBSCAN(eps=0.042, min_samples=10, metric=\"hamming\").fit(train_df)\n",
    "\n",
    "print (model2.labels_)\n",
    "\n",
    "df2 = pd.DataFrame(model2.labels_)\n",
    "print (df2[0].value_counts())"
   ]
  },
  {
   "cell_type": "code",
   "execution_count": 21,
   "metadata": {},
   "outputs": [],
   "source": [
    "df2.to_csv(\"dbcategoryeps0042sample10.csv\")"
   ]
  },
  {
   "cell_type": "code",
   "execution_count": 22,
   "metadata": {},
   "outputs": [
    {
     "name": "stdout",
     "output_type": "stream",
     "text": [
      "[ 0 26  0 ... -1 -1  0]\n",
      "-1     3571\n",
      " 3     3541\n",
      " 41    2256\n",
      " 0     1540\n",
      " 6     1393\n",
      " 28     710\n",
      " 5      631\n",
      " 20     305\n",
      " 67     282\n",
      " 15     271\n",
      " 23     265\n",
      " 4      225\n",
      " 8      206\n",
      " 36     194\n",
      " 2      178\n",
      " 45     174\n",
      " 39     159\n",
      " 70     150\n",
      " 18     138\n",
      " 55     136\n",
      " 29     118\n",
      " 21     117\n",
      " 53     104\n",
      " 54      84\n",
      " 73      83\n",
      " 32      82\n",
      " 33      79\n",
      " 24      73\n",
      " 22      68\n",
      " 25      65\n",
      "       ... \n",
      " 69      21\n",
      " 63      21\n",
      " 48      21\n",
      " 17      21\n",
      " 72      21\n",
      " 56      20\n",
      " 27      19\n",
      " 57      19\n",
      " 79      19\n",
      " 14      19\n",
      " 51      17\n",
      " 38      16\n",
      " 30      16\n",
      " 31      15\n",
      " 64      14\n",
      " 78      13\n",
      " 52      13\n",
      " 62      12\n",
      " 47      12\n",
      " 61      11\n",
      " 34      11\n",
      " 81      11\n",
      " 83      11\n",
      " 74      10\n",
      " 7       10\n",
      " 89      10\n",
      " 86      10\n",
      " 13      10\n",
      " 76      10\n",
      " 87      10\n",
      "Name: 0, Length: 92, dtype: int64\n"
     ]
    }
   ],
   "source": [
    "model3 = DBSCAN(eps=0.045, min_samples=10, metric=\"hamming\").fit(train_df)\n",
    "\n",
    "print (model3.labels_)\n",
    "\n",
    "df3 = pd.DataFrame(model3.labels_)\n",
    "print (df3[0].value_counts())\n",
    "\n",
    "df3.to_csv(\"dbcategoryeps0045sample10.csv\")"
   ]
  },
  {
   "cell_type": "code",
   "execution_count": 16,
   "metadata": {},
   "outputs": [
    {
     "name": "stdout",
     "output_type": "stream",
     "text": [
      "[ 0 15  0 ... 11 -1  0]\n",
      " 5     4074\n",
      "-1     3970\n",
      " 2     3835\n",
      " 0     1651\n",
      " 18     730\n",
      " 4      642\n",
      " 14     416\n",
      " 10     401\n",
      " 12     314\n",
      " 3      233\n",
      " 11     213\n",
      " 24     192\n",
      " 1      179\n",
      " 21     166\n",
      " 27     159\n",
      " 39     152\n",
      " 33     140\n",
      " 9      126\n",
      " 17     121\n",
      " 13     114\n",
      " 32     101\n",
      " 19      82\n",
      " 37      64\n",
      " 38      61\n",
      " 15      55\n",
      " 8       52\n",
      " 26      50\n",
      " 25      49\n",
      " 40      47\n",
      " 29      46\n",
      " 34      44\n",
      " 7       44\n",
      " 35      41\n",
      " 22      40\n",
      " 31      33\n",
      " 6       30\n",
      " 20      29\n",
      " 41      27\n",
      " 28      27\n",
      " 36      25\n",
      " 42      24\n",
      " 30      23\n",
      " 16      22\n",
      " 23      15\n",
      "Name: 0, dtype: int64\n"
     ]
    }
   ],
   "source": [
    "model1 = DBSCAN(eps=0.05, min_samples=20, metric=\"hamming\").fit(train_df)\n",
    "\n",
    "print (model1.labels_)\n",
    "\n",
    "df1 = pd.DataFrame(model1.labels_)\n",
    "print (df1[0].value_counts())"
   ]
  },
  {
   "cell_type": "code",
   "execution_count": 17,
   "metadata": {},
   "outputs": [],
   "source": [
    "df1.to_csv(\"smalldbcategory.csv\")"
   ]
  },
  {
   "cell_type": "code",
   "execution_count": 6,
   "metadata": {},
   "outputs": [
    {
     "name": "stdout",
     "output_type": "stream",
     "text": [
      "[ 0  0  0 ...  0 -1  0]\n"
     ]
    }
   ],
   "source": [
    "model = DBSCAN(eps=0.066, min_samples=50, metric=\"hamming\").fit(train_df)\n",
    "\n",
    "print (model.labels_)\n"
   ]
  },
  {
   "cell_type": "code",
   "execution_count": 7,
   "metadata": {},
   "outputs": [],
   "source": [
    "df = pd.DataFrame(model.labels_)\n",
    "df.to_csv(\"some.csv\")"
   ]
  },
  {
   "cell_type": "code",
   "execution_count": 11,
   "metadata": {},
   "outputs": [
    {
     "name": "stdout",
     "output_type": "stream",
     "text": [
      "[2 2 2 ... 2 2 2]\n"
     ]
    }
   ],
   "source": [
    "n_clusters = 9\n",
    "#labels = ['lab 1', 'lab 2', 'lab 3', 'lab 4', 'lab 5', 'lab 6', 'lab 7', 'lab 8']\n",
    "aggmodel = AgglomerativeClustering(n_clusters=n_clusters, linkage=\"average\", affinity=\"hamming\")\n",
    "\n",
    "aggmodel.fit(train_df)\n",
    "print (aggmodel.labels_)\n"
   ]
  },
  {
   "cell_type": "code",
   "execution_count": 12,
   "metadata": {},
   "outputs": [],
   "source": [
    "ndf = pd.DataFrame(aggmodel.labels_)\n",
    "ndf.to_csv(\"AgglomerativeClustering.csv\")"
   ]
  },
  {
   "cell_type": "code",
   "execution_count": 3,
   "metadata": {},
   "outputs": [
    {
     "ename": "MemoryError",
     "evalue": "",
     "output_type": "error",
     "traceback": [
      "\u001b[1;31m---------------------------------------------------------------------------\u001b[0m",
      "\u001b[1;31mMemoryError\u001b[0m                               Traceback (most recent call last)",
      "\u001b[1;32m<ipython-input-3-ee317a8dddcb>\u001b[0m in \u001b[0;36m<module>\u001b[1;34m\u001b[0m\n\u001b[0;32m      1\u001b[0m \u001b[1;33m\u001b[0m\u001b[0m\n\u001b[1;32m----> 2\u001b[1;33m \u001b[0mtrain_df\u001b[0m \u001b[1;33m=\u001b[0m \u001b[0mpd\u001b[0m\u001b[1;33m.\u001b[0m\u001b[0mread_csv\u001b[0m\u001b[1;33m(\u001b[0m\u001b[1;34m\"ingr1125nf.csv\"\u001b[0m\u001b[1;33m)\u001b[0m\u001b[1;33m\u001b[0m\u001b[1;33m\u001b[0m\u001b[0m\n\u001b[0m",
      "\u001b[1;32m~\\Anaconda3\\lib\\site-packages\\pandas\\io\\parsers.py\u001b[0m in \u001b[0;36mparser_f\u001b[1;34m(filepath_or_buffer, sep, delimiter, header, names, index_col, usecols, squeeze, prefix, mangle_dupe_cols, dtype, engine, converters, true_values, false_values, skipinitialspace, skiprows, skipfooter, nrows, na_values, keep_default_na, na_filter, verbose, skip_blank_lines, parse_dates, infer_datetime_format, keep_date_col, date_parser, dayfirst, iterator, chunksize, compression, thousands, decimal, lineterminator, quotechar, quoting, doublequote, escapechar, comment, encoding, dialect, tupleize_cols, error_bad_lines, warn_bad_lines, delim_whitespace, low_memory, memory_map, float_precision)\u001b[0m\n\u001b[0;32m    700\u001b[0m                     skip_blank_lines=skip_blank_lines)\n\u001b[0;32m    701\u001b[0m \u001b[1;33m\u001b[0m\u001b[0m\n\u001b[1;32m--> 702\u001b[1;33m         \u001b[1;32mreturn\u001b[0m \u001b[0m_read\u001b[0m\u001b[1;33m(\u001b[0m\u001b[0mfilepath_or_buffer\u001b[0m\u001b[1;33m,\u001b[0m \u001b[0mkwds\u001b[0m\u001b[1;33m)\u001b[0m\u001b[1;33m\u001b[0m\u001b[1;33m\u001b[0m\u001b[0m\n\u001b[0m\u001b[0;32m    703\u001b[0m \u001b[1;33m\u001b[0m\u001b[0m\n\u001b[0;32m    704\u001b[0m     \u001b[0mparser_f\u001b[0m\u001b[1;33m.\u001b[0m\u001b[0m__name__\u001b[0m \u001b[1;33m=\u001b[0m \u001b[0mname\u001b[0m\u001b[1;33m\u001b[0m\u001b[1;33m\u001b[0m\u001b[0m\n",
      "\u001b[1;32m~\\Anaconda3\\lib\\site-packages\\pandas\\io\\parsers.py\u001b[0m in \u001b[0;36m_read\u001b[1;34m(filepath_or_buffer, kwds)\u001b[0m\n\u001b[0;32m    433\u001b[0m \u001b[1;33m\u001b[0m\u001b[0m\n\u001b[0;32m    434\u001b[0m     \u001b[1;32mtry\u001b[0m\u001b[1;33m:\u001b[0m\u001b[1;33m\u001b[0m\u001b[1;33m\u001b[0m\u001b[0m\n\u001b[1;32m--> 435\u001b[1;33m         \u001b[0mdata\u001b[0m \u001b[1;33m=\u001b[0m \u001b[0mparser\u001b[0m\u001b[1;33m.\u001b[0m\u001b[0mread\u001b[0m\u001b[1;33m(\u001b[0m\u001b[0mnrows\u001b[0m\u001b[1;33m)\u001b[0m\u001b[1;33m\u001b[0m\u001b[1;33m\u001b[0m\u001b[0m\n\u001b[0m\u001b[0;32m    436\u001b[0m     \u001b[1;32mfinally\u001b[0m\u001b[1;33m:\u001b[0m\u001b[1;33m\u001b[0m\u001b[1;33m\u001b[0m\u001b[0m\n\u001b[0;32m    437\u001b[0m         \u001b[0mparser\u001b[0m\u001b[1;33m.\u001b[0m\u001b[0mclose\u001b[0m\u001b[1;33m(\u001b[0m\u001b[1;33m)\u001b[0m\u001b[1;33m\u001b[0m\u001b[1;33m\u001b[0m\u001b[0m\n",
      "\u001b[1;32m~\\Anaconda3\\lib\\site-packages\\pandas\\io\\parsers.py\u001b[0m in \u001b[0;36mread\u001b[1;34m(self, nrows)\u001b[0m\n\u001b[0;32m   1137\u001b[0m     \u001b[1;32mdef\u001b[0m \u001b[0mread\u001b[0m\u001b[1;33m(\u001b[0m\u001b[0mself\u001b[0m\u001b[1;33m,\u001b[0m \u001b[0mnrows\u001b[0m\u001b[1;33m=\u001b[0m\u001b[1;32mNone\u001b[0m\u001b[1;33m)\u001b[0m\u001b[1;33m:\u001b[0m\u001b[1;33m\u001b[0m\u001b[1;33m\u001b[0m\u001b[0m\n\u001b[0;32m   1138\u001b[0m         \u001b[0mnrows\u001b[0m \u001b[1;33m=\u001b[0m \u001b[0m_validate_integer\u001b[0m\u001b[1;33m(\u001b[0m\u001b[1;34m'nrows'\u001b[0m\u001b[1;33m,\u001b[0m \u001b[0mnrows\u001b[0m\u001b[1;33m)\u001b[0m\u001b[1;33m\u001b[0m\u001b[1;33m\u001b[0m\u001b[0m\n\u001b[1;32m-> 1139\u001b[1;33m         \u001b[0mret\u001b[0m \u001b[1;33m=\u001b[0m \u001b[0mself\u001b[0m\u001b[1;33m.\u001b[0m\u001b[0m_engine\u001b[0m\u001b[1;33m.\u001b[0m\u001b[0mread\u001b[0m\u001b[1;33m(\u001b[0m\u001b[0mnrows\u001b[0m\u001b[1;33m)\u001b[0m\u001b[1;33m\u001b[0m\u001b[1;33m\u001b[0m\u001b[0m\n\u001b[0m\u001b[0;32m   1140\u001b[0m \u001b[1;33m\u001b[0m\u001b[0m\n\u001b[0;32m   1141\u001b[0m         \u001b[1;31m# May alter columns / col_dict\u001b[0m\u001b[1;33m\u001b[0m\u001b[1;33m\u001b[0m\u001b[1;33m\u001b[0m\u001b[0m\n",
      "\u001b[1;32m~\\Anaconda3\\lib\\site-packages\\pandas\\io\\parsers.py\u001b[0m in \u001b[0;36mread\u001b[1;34m(self, nrows)\u001b[0m\n\u001b[0;32m   1993\u001b[0m     \u001b[1;32mdef\u001b[0m \u001b[0mread\u001b[0m\u001b[1;33m(\u001b[0m\u001b[0mself\u001b[0m\u001b[1;33m,\u001b[0m \u001b[0mnrows\u001b[0m\u001b[1;33m=\u001b[0m\u001b[1;32mNone\u001b[0m\u001b[1;33m)\u001b[0m\u001b[1;33m:\u001b[0m\u001b[1;33m\u001b[0m\u001b[1;33m\u001b[0m\u001b[0m\n\u001b[0;32m   1994\u001b[0m         \u001b[1;32mtry\u001b[0m\u001b[1;33m:\u001b[0m\u001b[1;33m\u001b[0m\u001b[1;33m\u001b[0m\u001b[0m\n\u001b[1;32m-> 1995\u001b[1;33m             \u001b[0mdata\u001b[0m \u001b[1;33m=\u001b[0m \u001b[0mself\u001b[0m\u001b[1;33m.\u001b[0m\u001b[0m_reader\u001b[0m\u001b[1;33m.\u001b[0m\u001b[0mread\u001b[0m\u001b[1;33m(\u001b[0m\u001b[0mnrows\u001b[0m\u001b[1;33m)\u001b[0m\u001b[1;33m\u001b[0m\u001b[1;33m\u001b[0m\u001b[0m\n\u001b[0m\u001b[0;32m   1996\u001b[0m         \u001b[1;32mexcept\u001b[0m \u001b[0mStopIteration\u001b[0m\u001b[1;33m:\u001b[0m\u001b[1;33m\u001b[0m\u001b[1;33m\u001b[0m\u001b[0m\n\u001b[0;32m   1997\u001b[0m             \u001b[1;32mif\u001b[0m \u001b[0mself\u001b[0m\u001b[1;33m.\u001b[0m\u001b[0m_first_chunk\u001b[0m\u001b[1;33m:\u001b[0m\u001b[1;33m\u001b[0m\u001b[1;33m\u001b[0m\u001b[0m\n",
      "\u001b[1;32mpandas/_libs/parsers.pyx\u001b[0m in \u001b[0;36mpandas._libs.parsers.TextReader.read\u001b[1;34m()\u001b[0m\n",
      "\u001b[1;32mpandas/_libs/parsers.pyx\u001b[0m in \u001b[0;36mpandas._libs.parsers.TextReader._read_low_memory\u001b[1;34m()\u001b[0m\n",
      "\u001b[1;32mpandas/_libs/parsers.pyx\u001b[0m in \u001b[0;36mpandas._libs.parsers.TextReader._read_rows\u001b[1;34m()\u001b[0m\n",
      "\u001b[1;32mpandas/_libs/parsers.pyx\u001b[0m in \u001b[0;36mpandas._libs.parsers.TextReader._convert_column_data\u001b[1;34m()\u001b[0m\n",
      "\u001b[1;31mMemoryError\u001b[0m: "
     ]
    }
   ],
   "source": [
    "\n",
    "train_df = pd.read_csv(\"ingr1125nf.csv\")"
   ]
  },
  {
   "cell_type": "code",
   "execution_count": null,
   "metadata": {},
   "outputs": [],
   "source": [
    "model3 = DBSCAN(eps=0.2, min_samples=10, metric=\"hamming\").fit(train_df)\n",
    "\n",
    "print (model3.labels_)\n",
    "\n",
    "df3 = pd.DataFrame(model3.labels_)\n",
    "print (df3[0].value_counts()) \n",
    "\n",
    "df3.to_csv(\"dbcategoryeps0045sample10.csv\")"
   ]
  },
  {
   "cell_type": "code",
   "execution_count": null,
   "metadata": {},
   "outputs": [],
   "source": []
  }
 ],
 "metadata": {
  "kernelspec": {
   "display_name": "Python 3",
   "language": "python",
   "name": "python3"
  },
  "language_info": {
   "codemirror_mode": {
    "name": "ipython",
    "version": 3
   },
   "file_extension": ".py",
   "mimetype": "text/x-python",
   "name": "python",
   "nbconvert_exporter": "python",
   "pygments_lexer": "ipython3",
   "version": "3.7.3"
  }
 },
 "nbformat": 4,
 "nbformat_minor": 2
}
