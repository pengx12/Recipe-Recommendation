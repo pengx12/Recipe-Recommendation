{
 "cells": [
  {
   "cell_type": "code",
   "execution_count": 5,
   "metadata": {},
   "outputs": [],
   "source": [
    "import csv\n",
    "import numpy as np\n",
    "import pandas as pd\n",
    "import scipy.spatial.distance\n",
    "\n",
    "from sklearn.cluster import DBSCAN\n",
    "from sklearn import metrics\n",
    "from sklearn.datasets.samples_generator import make_blobs\n",
    "from sklearn.preprocessing import StandardScaler\n",
    "\n",
    "from sklearn.cluster import AgglomerativeClustering\n",
    "from sklearn.metrics import pairwise_distances\n",
    "from sklearn.cluster import KMeans\n",
    "\n",
    "import matplotlib.pyplot as plt\n"
   ]
  },
  {
   "cell_type": "code",
   "execution_count": 2,
   "metadata": {},
   "outputs": [],
   "source": [
    "train_df = pd.read_csv('training_data.csv')"
   ]
  },
  {
   "cell_type": "code",
   "execution_count": 13,
   "metadata": {},
   "outputs": [],
   "source": [
    "y_pred = KMeans(n_clusters=9, random_state=9).fit_predict(train_df)"
   ]
  },
  {
   "cell_type": "code",
   "execution_count": 12,
   "metadata": {},
   "outputs": [
    {
     "name": "stdout",
     "output_type": "stream",
     "text": [
      "1    8102\n",
      "2    6026\n",
      "0    4731\n",
      "Name: 0, dtype: int64\n"
     ]
    }
   ],
   "source": [
    "#print (train_df)\n",
    "df = pd.DataFrame(y_pred)\n",
    "print (df[0].value_counts())"
   ]
  },
  {
   "cell_type": "code",
   "execution_count": 14,
   "metadata": {},
   "outputs": [
    {
     "name": "stdout",
     "output_type": "stream",
     "text": [
      "[ 0 -1  1 ... -1 -1  1]\n",
      "-1      7128\n",
      " 5      1365\n",
      " 44      951\n",
      " 1       583\n",
      " 76      566\n",
      " 58      501\n",
      " 9       387\n",
      " 32      371\n",
      " 0       334\n",
      " 11      306\n",
      " 25      293\n",
      " 64      289\n",
      " 96      257\n",
      " 33      238\n",
      " 8       232\n",
      " 74      163\n",
      " 24      162\n",
      " 55      160\n",
      " 90      157\n",
      " 56      154\n",
      " 31      126\n",
      " 69      121\n",
      " 100     115\n",
      " 68      115\n",
      " 36      112\n",
      " 53      111\n",
      " 6        97\n",
      " 103      97\n",
      " 48       93\n",
      " 45       89\n",
      "        ... \n",
      " 81       14\n",
      " 128      14\n",
      " 22       14\n",
      " 77       14\n",
      " 101      14\n",
      " 86       14\n",
      " 61       14\n",
      " 92       13\n",
      " 132      13\n",
      " 62       12\n",
      " 54       12\n",
      " 107      12\n",
      " 106      12\n",
      " 79       11\n",
      " 131      11\n",
      " 71       11\n",
      " 134      11\n",
      " 70       11\n",
      " 34       11\n",
      " 119      10\n",
      " 114      10\n",
      " 49       10\n",
      " 136      10\n",
      " 39       10\n",
      " 89       10\n",
      " 137      10\n",
      " 122      10\n",
      " 123      10\n",
      " 108      10\n",
      " 125      10\n",
      "Name: 0, Length: 139, dtype: int64\n"
     ]
    }
   ],
   "source": [
    "model = DBSCAN(eps=0.03, min_samples=10, metric=\"hamming\").fit(train_df)\n",
    "\n",
    "print (model.labels_)\n",
    "\n",
    "df = pd.DataFrame(model.labels_)\n",
    "print (df[0].value_counts())"
   ]
  },
  {
   "cell_type": "code",
   "execution_count": 15,
   "metadata": {},
   "outputs": [
    {
     "name": "stdout",
     "output_type": "stream",
     "text": [
      "[ 0 22  1 ... -1 -1  1]\n",
      "-1     6172\n",
      " 2     1801\n",
      " 32    1069\n",
      " 1      738\n",
      " 9      689\n",
      " 49     679\n",
      " 38     632\n",
      " 0      609\n",
      " 5      549\n",
      " 7      487\n",
      " 23     466\n",
      " 40     311\n",
      " 57     278\n",
      " 21     242\n",
      " 37     212\n",
      " 19     210\n",
      " 3      200\n",
      " 48     188\n",
      " 44     171\n",
      " 18     167\n",
      " 14     164\n",
      " 31     142\n",
      " 61     136\n",
      " 62     127\n",
      " 16     124\n",
      " 34     119\n",
      " 4      109\n",
      " 33     106\n",
      " 27     104\n",
      " 26      98\n",
      "       ... \n",
      " 55      51\n",
      " 63      49\n",
      " 41      46\n",
      " 10      40\n",
      " 30      40\n",
      " 39      39\n",
      " 42      38\n",
      " 52      37\n",
      " 64      37\n",
      " 6       36\n",
      " 13      36\n",
      " 60      36\n",
      " 58      34\n",
      " 51      34\n",
      " 53      33\n",
      " 54      33\n",
      " 65      32\n",
      " 12      30\n",
      " 50      30\n",
      " 69      29\n",
      " 35      29\n",
      " 43      29\n",
      " 68      28\n",
      " 8       25\n",
      " 11      24\n",
      " 15      24\n",
      " 66      22\n",
      " 70      22\n",
      " 28      22\n",
      " 59      20\n",
      "Name: 0, Length: 72, dtype: int64\n"
     ]
    }
   ],
   "source": [
    "model1 = DBSCAN(eps=0.04, min_samples=20, metric=\"hamming\").fit(train_df)\n",
    "\n",
    "print (model1.labels_)\n",
    "\n",
    "df1 = pd.DataFrame(model1.labels_)\n",
    "print (df1[0].value_counts())"
   ]
  },
  {
   "cell_type": "code",
   "execution_count": null,
   "metadata": {},
   "outputs": [],
   "source": [
    "model1 = DBSCAN(eps=0.05, min_samples=20, metric=\"hamming\").fit(train_df)\n",
    "\n",
    "print (model1.labels_)\n",
    "\n",
    "df1 = pd.DataFrame(model1.labels_)\n",
    "print (df1[0].value_counts())"
   ]
  },
  {
   "cell_type": "code",
   "execution_count": 6,
   "metadata": {},
   "outputs": [
    {
     "name": "stdout",
     "output_type": "stream",
     "text": [
      "[ 0  0  0 ...  0 -1  0]\n"
     ]
    }
   ],
   "source": [
    "model = DBSCAN(eps=0.066, min_samples=50, metric=\"hamming\").fit(train_df)\n",
    "\n",
    "print (model.labels_)\n"
   ]
  },
  {
   "cell_type": "code",
   "execution_count": 7,
   "metadata": {},
   "outputs": [],
   "source": [
    "df = pd.DataFrame(model.labels_)\n",
    "df.to_csv(\"some.csv\")"
   ]
  },
  {
   "cell_type": "code",
   "execution_count": 11,
   "metadata": {},
   "outputs": [
    {
     "name": "stdout",
     "output_type": "stream",
     "text": [
      "[2 2 2 ... 2 2 2]\n"
     ]
    }
   ],
   "source": [
    "n_clusters = 9\n",
    "#labels = ['lab 1', 'lab 2', 'lab 3', 'lab 4', 'lab 5', 'lab 6', 'lab 7', 'lab 8']\n",
    "aggmodel = AgglomerativeClustering(n_clusters=n_clusters, linkage=\"average\", affinity=\"hamming\")\n",
    "\n",
    "aggmodel.fit(train_df)\n",
    "print (aggmodel.labels_)\n"
   ]
  },
  {
   "cell_type": "code",
   "execution_count": 12,
   "metadata": {},
   "outputs": [],
   "source": [
    "ndf = pd.DataFrame(aggmodel.labels_)\n",
    "ndf.to_csv(\"AgglomerativeClustering.csv\")"
   ]
  },
  {
   "cell_type": "code",
   "execution_count": null,
   "metadata": {},
   "outputs": [],
   "source": []
  }
 ],
 "metadata": {
  "kernelspec": {
   "display_name": "Python 3",
   "language": "python",
   "name": "python3"
  },
  "language_info": {
   "codemirror_mode": {
    "name": "ipython",
    "version": 3
   },
   "file_extension": ".py",
   "mimetype": "text/x-python",
   "name": "python",
   "nbconvert_exporter": "python",
   "pygments_lexer": "ipython3",
   "version": "3.7.3"
  }
 },
 "nbformat": 4,
 "nbformat_minor": 2
}
